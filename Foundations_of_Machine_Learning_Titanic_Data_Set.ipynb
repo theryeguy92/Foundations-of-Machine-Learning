{
  "nbformat": 4,
  "nbformat_minor": 0,
  "metadata": {
    "colab": {
      "provenance": [],
      "authorship_tag": "ABX9TyMfTAewjNvsIVXNhGUlMdy6",
      "include_colab_link": true
    },
    "kernelspec": {
      "name": "python3",
      "display_name": "Python 3"
    },
    "language_info": {
      "name": "python"
    }
  },
  "cells": [
    {
      "cell_type": "markdown",
      "metadata": {
        "id": "view-in-github",
        "colab_type": "text"
      },
      "source": [
        "<a href=\"https://colab.research.google.com/github/TheLeveyBreaks/Foundations-of-Machine-Learning/blob/main/Foundations_of_Machine_Learning_Titanic_Data_Set.ipynb\" target=\"_parent\"><img src=\"https://colab.research.google.com/assets/colab-badge.svg\" alt=\"Open In Colab\"/></a>"
      ]
    },
    {
      "cell_type": "markdown",
      "source": [
        "# **Foundations of Machine Learning Project: Titanic Data Set**"
      ],
      "metadata": {
        "id": "IcS_VrY3LXua"
      }
    },
    {
      "cell_type": "markdown",
      "source": [
        "## Background:\n",
        "\n",
        "On the night of April 15th, 1912, the \"unsinkable\" RMS Titanic sank after colliding with an iceberg during her main voyage.\n",
        "\n",
        "Because the White Star Line, the shipping line that opperated the Titanic, wanted to provide unbstructed views for 1st class passengers, the origional design of 64 life boats was cut down to 20 life boats. In total, this could accommodate 1,178 people, a little over half on board the night the Titanic sank.\n",
        "\n",
        "This fatal mistake resulted in the death of 67.5% of the passengers on the night of the distaster. This number was further exacurbated as only 18 lifeboats were used, and many lifeboats only carried a fraction of their maximum capacity.\n",
        "\n",
        "There are many variations as to why many life boats were not filled to capacity:\n",
        "- Some sources claimed that the passengers were afraid of the lifeboat buckling under the weight.\n",
        "- Others suggested that the crew were following orders to evacuate women and children first.\n",
        "\n",
        "It is also worth noting that only two lifeboats returned to retrieve survivors, as the other lifeboats feared of being swamped with survivors or being sucked into the Titanic sinking.\n",
        "\n",
        "\n",
        "The data being used for this project is derived from the Kaggle Data set. It is worth noting in the kaggle dataset, it states that 1502 passangers out of 2224 perished, while other estimates have 1,517 lives lost. From the Kaggle Estimate, this results in 722 survivors while other estimates have about 706 survivors.\n",
        "\n",
        "For consistency, this project will be using the Kaggle estimate in providing results for this project.\n",
        "\n",
        "\n",
        "\n",
        "\n",
        "\n"
      ],
      "metadata": {
        "id": "zF6CEUkYL3Cv"
      }
    },
    {
      "cell_type": "markdown",
      "source": [
        "## Project Description:\n",
        "\n",
        "This project serves answer the question: **What is the likelyhood of a passengers survival?** Given the emergancy protocal taken, and the design choice of limiting lifeboats.\n",
        "\n",
        "To determine this, this project will leverage variables such as:\n",
        "- Ticket Class\n",
        "- Cabin Number\n",
        "- Sex\n",
        "- Age\n",
        "- Siblings/Spouses on board\n",
        "- Port of Embarkment\n",
        "- Survived (True/False)\n",
        "\n",
        "Anticipated outcome (hypothesis): **Women and children in the first class cabins will have a higher survival rate in comparison to their counterparts.**\n",
        "\n",
        "### Methodology\n",
        "\n",
        "The model that will be used within this project will be a **Classification Model**.\n",
        "\n",
        "A classification model will be used is because from the Titanic's design, First Class passengers vicinity to the life boats, along with the emergancy protocal, are excpected to give passengers in specific groups an advantage.\n",
        "\n",
        "The methodology for this project will take a top-down approach. The analysis, and steps for modeling will be taken in the following order:\n",
        "\n",
        "1. **Economic Status (Ticket Class & Cabin Number).**\n",
        "2. **Ratio of Male/Female passengers per economic status bucket.**\n",
        "3. **Age of passengers**\n",
        "\n",
        "\n",
        "Below will go into further detail into the reasoning/logic to be implimented for the analysis & model.\n",
        "\n",
        "1. **Economic Status:**\n",
        "\n",
        "- As stated above, the reason why the Titanic only had 20 life boats was to not obstruct the views of 1st class passengers. With that being said, the first analysis will be to look at the ticket class of the passengers versus their survivability.\n",
        "\n",
        "- In addition, to illustrate the placement of the first class passengers relative to the life boats, the cabin number will serve as an additonal layer, and be bucketed with ticket class. Again, this is to better illustrate the time it took passengers to get into the lifeboat.\n",
        "\n",
        "- **It is important to note that in this project, Economic analysis serves to illustrate passengers distance to the lifeboats.**\n",
        "\n",
        "\n",
        "2. **Ratio of Male/Female per economic class**\n",
        "\n",
        "- Given that the ship orders were to evacuate women and children first, within the economic bucket, the next step will be to analyze, and model the gender split between economic class.\n",
        "\n",
        "3. **Age**\n",
        "- As stated above (women and children are to be saved first), The ratio between the genders will be analyzed and implimented in the model as well.\n",
        "\n",
        "4. **Spouse/Sibling Data**\n",
        "- A further analysis will be executed to analyse passengers traveling with Spouses/Siblings. This element serves as an additional layer to test the hypothesis. This serves to investigate if families were kept together.\n",
        "\n",
        "\n",
        "### Data Resources\n",
        "\n",
        "The dataset being used in this project will be the Titanic Dataset from Kaggle (link below)\n",
        "- Link: https://www.kaggle.com/c/titanic/data\n",
        "\n",
        "In addition to the kaggle dataset, floor plans relative of the titanic, reflecting the dimentions of cabins, and distance to the lifeboats on the Boat deck will be used in addition to the kaggle dataset. This data set will be constructed manually, with illustration to provided to reflect cabin distance to the lifeboats.\n",
        "- Link: https://www.encyclopedia-titanica.org/titanic-deckplans/boat-deck.html\n",
        "\n",
        "\n",
        "\n",
        "\n",
        "\n"
      ],
      "metadata": {
        "id": "rSxaaaK9PrY5"
      }
    },
    {
      "cell_type": "markdown",
      "source": [
        "## Performance Metrics:\n",
        "\n",
        "The audience this project's scope are **cruse ship arcitects**, along with **safety officers** for emergancy protocal when disaster strikes (In this case, a ship sinking).\n",
        "\n",
        "Given the gravity of such situations, the primary metrics of this Machine Learning model is to provide **Precision** of passengers survivalness given the Titanic example.\n",
        "\n",
        "As noted above, women, and children were given priorty for evacuation. This model serves to provide a precice probability of chance survivability given this emercancy protocal.\n",
        "\n",
        "Furthermore, since it was decided by the ships designers to not include as many lifeboats so the first class can enjoy the view, this model will also take that into account.\n",
        "\n",
        "To determine the predictability, and effectiveness of the model, the following metrics will used:\n",
        "\n",
        "1. The statistical significants of economic status, ratio of male/female (within economic status bucket to-be created) and age from the train vs the test datasets\n",
        " - If the model is trained correctly, we should see statistical significants between these variables in both data set as **.95** or **α >= 0.05**\n",
        " - The reason that these Stat Sig values are used is because survivability of the passengers is the priority.\n",
        "\n",
        "2. In addition, the model should give a similar output that is on par with the overall survivability between male/females along with age. The patterns from the train & test datasets should be on par with eachother.\n",
        "\n",
        "3. Given that this is a classification model, the objective is to give a overall generability of the liklyhood of survival given the protocal, and design choices of the Titanic.\n",
        "\n",
        "The findings of this Machine Learning Model will provide life saving information to help disasters like the Titanic to be prevented in the future.\n"
      ],
      "metadata": {
        "id": "pw7-UVKTvq-6"
      }
    },
    {
      "cell_type": "code",
      "source": [],
      "metadata": {
        "id": "gj029fCn9sJJ"
      },
      "execution_count": null,
      "outputs": []
    }
  ]
}